{
 "cells": [
  {
   "cell_type": "markdown",
   "metadata": {
    "id": "AuMu6eDesBbV"
   },
   "source": [
    "# **Load data from the CSV file**"
   ]
  },
  {
   "cell_type": "code",
   "execution_count": null,
   "metadata": {
    "colab": {
     "base_uri": "https://localhost:8080/"
    },
    "id": "MEf5Vi47rynb",
    "outputId": "9150bce0-4265-406e-d824-41415fdc1ec8"
   },
   "outputs": [
    {
     "name": "stdout",
     "output_type": "stream",
     "text": [
      "     car_ID                   CarName fueltype  doornumber      carbody  \\\n",
      "0         1        alfa-romero giulia      gas           2  convertible   \n",
      "1         2       alfa-romero stelvio      gas           2  convertible   \n",
      "2         3  alfa-romero Quadrifoglio      gas           2    hatchback   \n",
      "3         4               audi 100 ls      gas           4        sedan   \n",
      "4         5                audi 100ls      gas           4        sedan   \n",
      "..      ...                       ...      ...         ...          ...   \n",
      "200     201           volvo 145e (sw)      gas           4        sedan   \n",
      "201     202               volvo 144ea      gas           4        sedan   \n",
      "202     203               volvo 244dl      gas           4        sedan   \n",
      "203     204                 volvo 246   diesel           4        sedan   \n",
      "204     205               volvo 264gl      gas           4        sedan   \n",
      "\n",
      "    drivewheel enginelocation  wheelbase  carlength  carwidth  carheight  \\\n",
      "0          rwd          front       88.6      168.8      64.1       48.8   \n",
      "1          rwd          front       88.6      168.8      64.1       48.8   \n",
      "2          rwd          front       94.5      171.2      65.5       52.4   \n",
      "3          fwd          front       99.8      176.6      66.2       54.3   \n",
      "4          4wd          front       99.4      176.6      66.4       54.3   \n",
      "..         ...            ...        ...        ...       ...        ...   \n",
      "200        rwd          front      109.1      188.8      68.9       55.5   \n",
      "201        rwd          front      109.1      188.8      68.8       55.5   \n",
      "202        rwd          front      109.1      188.8      68.9       55.5   \n",
      "203        rwd          front      109.1      188.8      68.9       55.5   \n",
      "204        rwd          front      109.1      188.8      68.9       55.5   \n",
      "\n",
      "     curbweight enginetype  cylindernumber  enginesize fuelsystem  horsepower  \\\n",
      "0          2548       dohc               4         130       mpfi         111   \n",
      "1          2548       dohc               4         130       mpfi         111   \n",
      "2          2823       ohcv               6         152       mpfi         154   \n",
      "3          2337        ohc               4         109       mpfi         102   \n",
      "4          2824        ohc               3         136       mpfi         115   \n",
      "..          ...        ...             ...         ...        ...         ...   \n",
      "200        2952        ohc               4         141       mpfi         114   \n",
      "201        3049        ohc               4         141       mpfi         160   \n",
      "202        3012       ohcv               6         173       mpfi         134   \n",
      "203        3217        ohc               6         145        idi         106   \n",
      "204        3062        ohc               4         141       mpfi         114   \n",
      "\n",
      "     citympg  highwaympg  price  \n",
      "0         21          27  13495  \n",
      "1         21          27  16500  \n",
      "2         19          26  16500  \n",
      "3         24          30  13950  \n",
      "4         18          22  17450  \n",
      "..       ...         ...    ...  \n",
      "200       23          28  16845  \n",
      "201       19          25  19045  \n",
      "202       18          23  21485  \n",
      "203       26          27  22470  \n",
      "204       19          25  22625  \n",
      "\n",
      "[205 rows x 20 columns]\n"
     ]
    }
   ],
   "source": [
    "import pandas as pd\n",
    "\n",
    "data = pd.read_csv(\"/content/CarPrice.csv\")\n",
    "print(data)"
   ]
  },
  {
   "cell_type": "markdown",
   "metadata": {
    "id": "1IyG5eP0wq5X"
   },
   "source": [
    "# **Retrieve a record for an individual car by id**"
   ]
  },
  {
   "cell_type": "code",
   "execution_count": null,
   "metadata": {
    "colab": {
     "base_uri": "https://localhost:8080/"
    },
    "id": "_8u9FNvfwxd8",
    "outputId": "47229624-5ceb-49a1-af97-c5adc024b528"
   },
   "outputs": [
    {
     "name": "stdout",
     "output_type": "stream",
     "text": [
      "Enter a record you want to retrieve between 1 to 2045\n",
      "   car_ID     CarName fueltype  doornumber carbody drivewheel enginelocation  \\\n",
      "4       5  audi 100ls      gas           4   sedan        4wd          front   \n",
      "\n",
      "   wheelbase  carlength  carwidth  carheight  curbweight enginetype  \\\n",
      "4       99.4      176.6      66.4       54.3        2824        ohc   \n",
      "\n",
      "   cylindernumber  enginesize fuelsystem  horsepower  citympg  highwaympg  \\\n",
      "4               3         136       mpfi         115       18          22   \n",
      "\n",
      "   price  \n",
      "4  17450  \n"
     ]
    }
   ],
   "source": [
    "car_id = int(input(\"Enter a record you want to retrieve between 1 to 204 \"))\n",
    "\n",
    "print(data[(data[\"car_ID\"]==car_id)])"
   ]
  },
  {
   "cell_type": "markdown",
   "metadata": {
    "id": "-50daJl5ztra"
   },
   "source": [
    "# **Retrieve all cars for a specified cylinder number**"
   ]
  },
  {
   "cell_type": "code",
   "execution_count": null,
   "metadata": {
    "colab": {
     "base_uri": "https://localhost:8080/"
    },
    "id": "OZOnLjJyyl0H",
    "outputId": "46c6fe5d-a73e-456b-d006-f4749bc91285"
   },
   "outputs": [
    {
     "name": "stdout",
     "output_type": "stream",
     "text": [
      "Please enter the cylinder number4\n",
      "     car_ID              CarName fueltype  doornumber      carbody drivewheel  \\\n",
      "0         1   alfa-romero giulia      gas           2  convertible        rwd   \n",
      "1         2  alfa-romero stelvio      gas           2  convertible        rwd   \n",
      "3         4          audi 100 ls      gas           4        sedan        fwd   \n",
      "10       11             bmw 320i      gas           2        sedan        rwd   \n",
      "11       12             bmw 320i      gas           4        sedan        rwd   \n",
      "..      ...                  ...      ...         ...          ...        ...   \n",
      "198     199          volvo 264gl      gas           4        sedan        rwd   \n",
      "199     200         volvo diesel      gas           4        wagon        rwd   \n",
      "200     201      volvo 145e (sw)      gas           4        sedan        rwd   \n",
      "201     202          volvo 144ea      gas           4        sedan        rwd   \n",
      "204     205          volvo 264gl      gas           4        sedan        rwd   \n",
      "\n",
      "    enginelocation  wheelbase  carlength  carwidth  carheight  curbweight  \\\n",
      "0            front       88.6      168.8      64.1       48.8        2548   \n",
      "1            front       88.6      168.8      64.1       48.8        2548   \n",
      "3            front       99.8      176.6      66.2       54.3        2337   \n",
      "10           front      101.2      176.8      64.8       54.3        2395   \n",
      "11           front      101.2      176.8      64.8       54.3        2395   \n",
      "..             ...        ...        ...       ...        ...         ...   \n",
      "198          front      104.3      188.8      67.2       56.2        3045   \n",
      "199          front      104.3      188.8      67.2       57.5        3157   \n",
      "200          front      109.1      188.8      68.9       55.5        2952   \n",
      "201          front      109.1      188.8      68.8       55.5        3049   \n",
      "204          front      109.1      188.8      68.9       55.5        3062   \n",
      "\n",
      "    enginetype  cylindernumber  enginesize fuelsystem  horsepower  citympg  \\\n",
      "0         dohc               4         130       mpfi         111       21   \n",
      "1         dohc               4         130       mpfi         111       21   \n",
      "3          ohc               4         109       mpfi         102       24   \n",
      "10         ohc               4         108       mpfi         101       23   \n",
      "11         ohc               4         108       mpfi         101       23   \n",
      "..         ...             ...         ...        ...         ...      ...   \n",
      "198        ohc               4         130       mpfi         162       17   \n",
      "199        ohc               4         130       mpfi         162       17   \n",
      "200        ohc               4         141       mpfi         114       23   \n",
      "201        ohc               4         141       mpfi         160       19   \n",
      "204        ohc               4         141       mpfi         114       19   \n",
      "\n",
      "     highwaympg  price  \n",
      "0            27  13495  \n",
      "1            27  16500  \n",
      "3            30  13950  \n",
      "10           29  16430  \n",
      "11           29  16925  \n",
      "..          ...    ...  \n",
      "198          22  18420  \n",
      "199          22  18950  \n",
      "200          28  16845  \n",
      "201          25  19045  \n",
      "204          25  22625  \n",
      "\n",
      "[159 rows x 20 columns]\n"
     ]
    }
   ],
   "source": [
    "cylinder_number = int(input(\"Please enter the cylinder number\"))\n",
    "\n",
    "print(data[data[\"cylindernumber\"]==cylinder_number])"
   ]
  },
  {
   "cell_type": "markdown",
   "metadata": {
    "id": "yCCVErGB0WrY"
   },
   "source": [
    "# **Retrieve all cars in the specified car body**"
   ]
  },
  {
   "cell_type": "code",
   "execution_count": null,
   "metadata": {
    "id": "lffJfrtR0duA"
   },
   "outputs": [],
   "source": [
    "car_body = str(input(\"choose the car type\"))\n",
    "\n",
    "print(data[data[\"cylindernumber\"]==car_body])"
   ]
  }
 ],
 "metadata": {
  "colab": {
   "provenance": []
  },
  "kernelspec": {
   "display_name": "Python 3 (ipykernel)",
   "language": "python",
   "name": "python3"
  },
  "language_info": {
   "codemirror_mode": {
    "name": "ipython",
    "version": 3
   },
   "file_extension": ".py",
   "mimetype": "text/x-python",
   "name": "python",
   "nbconvert_exporter": "python",
   "pygments_lexer": "ipython3",
   "version": "3.9.13"
  }
 },
 "nbformat": 4,
 "nbformat_minor": 1
}
